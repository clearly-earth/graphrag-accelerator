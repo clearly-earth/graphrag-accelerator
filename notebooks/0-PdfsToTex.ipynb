{
 "cells": [
  {
   "cell_type": "markdown",
   "id": "f286b3a9-5d83-4751-b91b-282a2ca7734f",
   "metadata": {},
   "source": [
    "# Transform from PDFs to Text"
   ]
  },
  {
   "cell_type": "code",
   "execution_count": 1,
   "id": "b94868e0-c0a1-43ba-b744-86aec0416f21",
   "metadata": {},
   "outputs": [],
   "source": [
    "from pdfminer.high_level import extract_text\n",
    "import os"
   ]
  },
  {
   "cell_type": "code",
   "execution_count": 3,
   "id": "037e6732-910e-4154-b7d9-07e4572a9df8",
   "metadata": {},
   "outputs": [],
   "source": [
    "def convert_pdf_folder_to_text(input_folder, output_folder):\n",
    "    # Create the output directory if it doesn't exist\n",
    "    os.makedirs(output_folder, exist_ok=True)\n",
    "\n",
    "    # Iterate over each file in the input folder\n",
    "    for filename in os.listdir(input_folder):\n",
    "        # Construct full file path\n",
    "        file_path = os.path.join(input_folder, filename)\n",
    "        \n",
    "        # Check if it's a file and ends with .pdf\n",
    "        if os.path.isfile(file_path) and filename.lower().endswith('.pdf'):\n",
    "            try:\n",
    "                # Extract text from the PDF file\n",
    "                text = extract_text(file_path)\n",
    "                \n",
    "                # Define the output file path by replacing .pdf with .txt\n",
    "                output_filename = f\"{os.path.splitext(filename)[0]}.txt\"\n",
    "                output_file_path = os.path.join(output_folder, output_filename)\n",
    "                \n",
    "                # Write the text to a text file\n",
    "                with open(output_file_path, 'w', encoding='utf-8') as text_file:\n",
    "                    text_file.write(text)\n",
    "                \n",
    "                print(f\"Successfully converted {filename} to {output_filename}\")\n",
    "            except Exception as e:\n",
    "                print(f\"Error while processing {filename}: {e}\")"
   ]
  },
  {
   "cell_type": "code",
   "execution_count": 4,
   "id": "f2e0f583-58dc-4d0d-97ec-01e1e192dc37",
   "metadata": {},
   "outputs": [
    {
     "name": "stdout",
     "output_type": "stream",
     "text": [
      "Successfully converted Clean_Cargo_-_2022_Global_Ocean_Container_Greenhouse_Gas_Emission_Intensities_2023-06.pdf to Clean_Cargo_-_2022_Global_Ocean_Container_Greenhouse_Gas_Emission_Intensities_2023-06.txt\n",
      "Successfully converted BOOSTLOG_CloudReport_Final.pdf to BOOSTLOG_CloudReport_Final.txt\n",
      "Successfully converted SFCExchangeNetwork_PoC_Evaluation_Report_2023.pdf to SFCExchangeNetwork_PoC_Evaluation_Report_2023.txt\n",
      "Successfully converted Breakbulk_GHG_Emissions_Accounting_and_Reporting_Guidance_Version1Final.pdf to Breakbulk_GHG_Emissions_Accounting_and_Reporting_Guidance_Version1Final.txt\n",
      "Successfully converted ASU-FEE-001-2_v02_Assurance_Fees_for_VVBs.pdf to ASU-FEE-001-2_v02_Assurance_Fees_for_VVBs.txt\n",
      "Successfully converted ASU-PRO-005-2_v02_Disputes.pdf to ASU-PRO-005-2_v02_Disputes.txt\n",
      "Successfully converted Data_exchange_of_GHG__Logistics_Emissions_Guidance_-_Jan2023_.pdf to Data_exchange_of_GHG__Logistics_Emissions_Guidance_-_Jan2023_.txt\n",
      "Successfully converted Exploring_Sustainability_in_Road_Freight_Electrification-_A_Comprehensive_FAQ.pdf to Exploring_Sustainability_in_Road_Freight_Electrification-_A_Comprehensive_FAQ.txt\n",
      "Successfully converted SFC-PRO-004-2_v01_Crosswalk_GLEC_Framework (1).pdf to SFC-PRO-004-2_v01_Crosswalk_GLEC_Framework (1).txt\n",
      "Successfully converted SFC_Annual_Report_2023_Sb9QERR.pdf to SFC_Annual_Report_2023_Sb9QERR.txt\n",
      "Successfully converted GLEC3.0_China_Default_GHG_Emission_Values_V1.0.pdf to GLEC3.0_China_Default_GHG_Emission_Values_V1.0.txt\n",
      "Successfully converted SFC_SRTI_annual_report_2022_v03.pdf to SFC_SRTI_annual_report_2022_v03.txt\n",
      "Successfully converted es010324_SFC_Procurement_playbook_A4_v8i.pdf to es010324_SFC_Procurement_playbook_A4_v8i.txt\n",
      "Successfully converted Clean_Cargo_GHG_Emission_Intensity_Calculation_Methods_2024-01-12_yyIIsag.pdf to Clean_Cargo_GHG_Emission_Intensity_Calculation_Methods_2024-01-12_yyIIsag.txt\n",
      "Successfully converted Summary_Report_SFC_Roundtable_Freight_Decarbonization_Mumbai_29th_Nov_2023.pdf to Summary_Report_SFC_Roundtable_Freight_Decarbonization_Mumbai_29th_Nov_2023.txt\n",
      "Successfully converted Guidelines-Charging-Infrastructure-for-Truck-Depots.pdf to Guidelines-Charging-Infrastructure-for-Truck-Depots.txt\n",
      "Successfully converted SFC-PRO-004-2_v01_Crosswalk_GLEC_Framework.pdf to SFC-PRO-004-2_v01_Crosswalk_GLEC_Framework.txt\n",
      "Successfully converted Unlocking_Your_Carriers_Electrification_March_2024.pdf to Unlocking_Your_Carriers_Electrification_March_2024.txt\n",
      "Successfully converted ASU-PRO-004-2_v02_Use_of_SFC_CAS_trademarks.pdf to ASU-PRO-004-2_v02_Use_of_SFC_CAS_trademarks.txt\n",
      "Successfully converted SFC-SPEC-001_v01_MBM_Specification (1).pdf to SFC-SPEC-001_v01_MBM_Specification (1).txt\n",
      "Successfully converted GLEC框架3.0中国默认排放系数V1.0.pdf to GLEC框架3.0中国默认排放系数V1.0.txt\n",
      "Successfully converted ASU-PRO-001-2_v02_ER_Manual_-_ISO_14083.pdf to ASU-PRO-001-2_v02_ER_Manual_-_ISO_14083.txt\n",
      "Successfully converted 240129_EV_Emissions_reporting_v3.0_FINAL.pdf to 240129_EV_Emissions_reporting_v3.0_FINAL.txt\n",
      "Successfully converted Smart_Freight_Procurement_Guidelines_2019_-_FINAL_Ob2JR8g.pdf to Smart_Freight_Procurement_Guidelines_2019_-_FINAL_Ob2JR8g.txt\n",
      "Successfully converted ASU-PRO-002-2_v02_VVB_Manual_-_ISO_14083.pdf to ASU-PRO-002-2_v02_VVB_Manual_-_ISO_14083.txt\n",
      "Successfully converted SFC-SPEC-001_v01_MBM_Specification.pdf to SFC-SPEC-001_v01_MBM_Specification.txt\n",
      "Successfully converted RoRo-methods-Guidance-v2-Final.pdf to RoRo-methods-Guidance-v2-Final.txt\n",
      "Successfully converted SFC_MBM_FRAMEWORK_2023_Oct.pdf to SFC_MBM_FRAMEWORK_2023_Oct.txt\n",
      "Successfully converted SBT-transport-guidance-Final (1).pdf to SBT-transport-guidance-Final (1).txt\n",
      "Successfully converted SFC-PRO-003-2_v01_Crosswalk-_MBM_Specification.pdf to SFC-PRO-003-2_v01_Crosswalk-_MBM_Specification.txt\n",
      "Successfully converted SFC-SPEC-001_v01_MBM_Specification (2).pdf to SFC-SPEC-001_v01_MBM_Specification (2).txt\n",
      "Successfully converted 240504GLEC3.0_final.pdf to 240504GLEC3.0_final.txt\n",
      "Successfully converted SFC_Exchange_Network_stable_release_FINAL_ZG2hcyU.pdf to SFC_Exchange_Network_stable_release_FINAL_ZG2hcyU.txt\n",
      "Successfully converted GLEC_FRAMEWORK_v3_UPDATED_04_12_24.pdf to GLEC_FRAMEWORK_v3_UPDATED_04_12_24.txt\n",
      "Successfully converted Second_Life_of_E-truck_Batteries_for_Sustainable_Logistics.pdf to Second_Life_of_E-truck_Batteries_for_Sustainable_Logistics.txt\n",
      "Successfully converted Barriers-for-Carriers-SFC-Final-Dec2016.pdf to Barriers-for-Carriers-SFC-Final-Dec2016.txt\n",
      "Successfully converted Clean_Cargo_-_2023_Global_Ocean_Container_Emissions_Report.pdf to Clean_Cargo_-_2023_Global_Ocean_Container_Emissions_Report.txt\n",
      "Successfully converted China_report.pdf to China_report.txt\n",
      "Successfully converted SFC_Workshop_Low_Emission_Logistics_ZET_12th_June_Delhi_Summary_Report.pdf to SFC_Workshop_Low_Emission_Logistics_ZET_12th_June_Delhi_Summary_Report.txt\n",
      "Successfully converted Commercial_ZEV_Factbook_Final.pdf to Commercial_ZEV_Factbook_Final.txt\n",
      "Successfully converted Final_VersionChina_Zero_Emission_Freight_Status_Report_Short_Version_240805_JD_dcEjfPY.pdf to Final_VersionChina_Zero_Emission_Freight_Status_Report_Short_Version_240805_JD_dcEjfPY.txt\n",
      "Successfully converted ASU-PRO-008-2_v01_VVB_Manual_-_MBM_Specification.pdf to ASU-PRO-008-2_v01_VVB_Manual_-_MBM_Specification.txt\n",
      "Successfully converted Shared_Charging_for_e-Trucks.pdf to Shared_Charging_for_e-Trucks.txt\n",
      "Successfully converted Comparison_of_greenhouse_gas_accounting_principles_between_the_US_and_the_EU_-_Yj9fNd3.pdf to Comparison_of_greenhouse_gas_accounting_principles_between_the_US_and_the_EU_-_Yj9fNd3.txt\n",
      "Successfully converted SFC_End-to-End_Guidance_-_Final (1).pdf to SFC_End-to-End_Guidance_-_Final (1).txt\n"
     ]
    }
   ],
   "source": [
    "# Example usage\n",
    "input_folder = 'data_glec_pdf'  # Path to the folder containing PDF files\n",
    "output_folder = 'data_glec'  # Path to the folder where text files will be saved\n",
    "convert_pdf_folder_to_text(input_folder, output_folder)"
   ]
  },
  {
   "cell_type": "code",
   "execution_count": null,
   "id": "d353a0b6-2826-4264-8c1f-4d7dbe313724",
   "metadata": {},
   "outputs": [],
   "source": []
  }
 ],
 "metadata": {
  "kernelspec": {
   "display_name": "Python 3 (ipykernel)",
   "language": "python",
   "name": "python3"
  },
  "language_info": {
   "codemirror_mode": {
    "name": "ipython",
    "version": 3
   },
   "file_extension": ".py",
   "mimetype": "text/x-python",
   "name": "python",
   "nbconvert_exporter": "python",
   "pygments_lexer": "ipython3",
   "version": "3.12.8"
  }
 },
 "nbformat": 4,
 "nbformat_minor": 5
}
